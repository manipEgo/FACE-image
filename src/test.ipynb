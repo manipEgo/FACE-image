{
 "cells": [
  {
   "cell_type": "code",
   "execution_count": null,
   "metadata": {},
   "outputs": [],
   "source": [
    "from utils import *\n",
    "import matplotlib.pyplot as plt\n",
    "\n",
    "img_path = \"../img/Outline/\"\n",
    "# Get the folder information\n",
    "info = load_folder_information(img_path)\n",
    "# Generate masks\n",
    "origin = load_image(os.path.join(img_path, info[\"origin\"]))\n",
    "\n",
    "print(info)\n",
    "plt.imshow(origin)"
   ]
  },
  {
   "cell_type": "code",
   "execution_count": null,
   "metadata": {},
   "outputs": [],
   "source": [
    "mask_num = len(info[\"mask_prefix\"])\n",
    "masks = []\n",
    "for i in range(mask_num):\n",
    "    mask = np.zeros_like(origin)\n",
    "    masked_column = origin.shape[1] // (mask_num + 1) * (i + 1)\n",
    "    mask[:, masked_column:] = 1\n",
    "    masks.append(mask)\n",
    "\n",
    "# for line in range(masks[0].shape[0]):\n",
    "#     for column in range(masks[0].shape[1]):\n",
    "#         print(masks[0][line][column][0], end=\" \")\n",
    "#     print()\n",
    "plt.imshow(masks[6]*255)"
   ]
  },
  {
   "cell_type": "code",
   "execution_count": null,
   "metadata": {},
   "outputs": [],
   "source": [
    "# Image files\n",
    "img_names = os.listdir(img_path)\n",
    "# MSE\n",
    "logits = []\n",
    "for i in range(mask_num):\n",
    "    mask = masks[i]\n",
    "    # for line in range(mask.shape[0]):\n",
    "    #     for column in range(mask.shape[1]):\n",
    "    #         print(mask[line][column][0], end=\" \")\n",
    "    #     print()\n",
    "    mask_prefix = info[\"mask_prefix\"][i]\n",
    "    imgs = [\n",
    "        load_image(os.path.join(img_path, img_name))\n",
    "        for img_name in img_names\n",
    "        if mask_prefix in img_name\n",
    "    ]\n",
    "    mse = [image_MSE(origin, img, mask) for img in imgs]\n",
    "    logits.append(np.mean(mse))\n",
    "    # for img in imgs:\n",
    "    #     plt.imshow(img)\n",
    "    #     plt.show()\n",
    "\n",
    "print(logits)"
   ]
  },
  {
   "cell_type": "code",
   "execution_count": null,
   "metadata": {},
   "outputs": [],
   "source": [
    "hpd_path = \"/nas/Public/data/HPDv2/test/\"\n",
    "save_path = \"/home/lyy/Repos/FACE-image/data/\"\n",
    "\n",
    "import os\n",
    "\n",
    "file_list = []\n",
    "\n",
    "if not os.path.exists(save_path):\n",
    "    os.mkdir(save_path)\n",
    "\n",
    "for file in os.listdir(hpd_path):\n",
    "    os.symlink(os.path.join(hpd_path, file), os.path.join(save_path, f\"image-{int(file.split('.')[0])}.\" + file.split(\".\")[-1] if file.split(\".\")[-1] != \"\" else \"jpg\"))"
   ]
  },
  {
   "cell_type": "code",
   "execution_count": null,
   "metadata": {},
   "outputs": [],
   "source": [
    "import os\n",
    "import cv2\n",
    "import numpy as np\n",
    "import matplotlib.pyplot as plt\n",
    "\n",
    "SPLIT = 64\n",
    "WIDTH = 512\n",
    "\n",
    "hpd_path = \"/nas/Public/data/HPDv2/test/\"\n",
    "generate_path = \"/nas/Public/experiment_result/FACE-image/\"\n",
    "logits = {}\n",
    "\n",
    "model_number = 9\n",
    "for i in range(model_number):\n",
    "    logits[i] = []\n",
    "\n",
    "for file in os.listdir(hpd_path):\n",
    "    subject_img = cv2.imread(os.path.join(hpd_path, file), cv2.IMREAD_COLOR)[:,:,::-1]\n",
    "    # TODO: scaled original image\n",
    "    idx = int(file.split('.')[0])\n",
    "    # plt.imshow(subject_img)\n",
    "    # plt.show()\n",
    "    # print(idx)\n",
    "    sequence = []\n",
    "    # each mask strip\n",
    "    for mask_idx in range(SPLIT - 1):\n",
    "        generated_img = cv2.imread(os.path.join(generate_path, f\"image-{idx}_mask-{mask_idx}_00001_.png\"), cv2.IMREAD_COLOR)[:,:,::-1]\n",
    "        # one strip\n",
    "        columns = WIDTH // SPLIT * (mask_idx + 1)\n",
    "        token = np.array(generated_img[:, columns:columns + WIDTH // SPLIT], dtype=np.int16)\n",
    "        ground_truth = np.array(subject_img[:, columns:columns + WIDTH // SPLIT], dtype=np.int16)\n",
    "\n",
    "        mse = ((token - ground_truth) ** 2).mean()\n",
    "        sequence.append(mse)\n",
    "    print(sequence)\n",
    "    break"
   ]
  }
 ],
 "metadata": {
  "kernelspec": {
   "display_name": "nlp",
   "language": "python",
   "name": "python3"
  },
  "language_info": {
   "codemirror_mode": {
    "name": "ipython",
    "version": 3
   },
   "file_extension": ".py",
   "mimetype": "text/x-python",
   "name": "python",
   "nbconvert_exporter": "python",
   "pygments_lexer": "ipython3",
   "version": "3.11.5"
  }
 },
 "nbformat": 4,
 "nbformat_minor": 2
}
