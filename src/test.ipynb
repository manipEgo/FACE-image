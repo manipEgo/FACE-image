{
 "cells": [
  {
   "cell_type": "code",
   "execution_count": null,
   "metadata": {},
   "outputs": [],
   "source": [
    "from utils import *\n",
    "import matplotlib.pyplot as plt\n",
    "\n",
    "img_path = \"../img/Outline/\"\n",
    "# Get the folder information\n",
    "info = load_folder_information(img_path)\n",
    "# Generate masks\n",
    "origin = load_image(os.path.join(img_path, info[\"origin\"]))\n",
    "\n",
    "print(info)\n",
    "plt.imshow(origin)"
   ]
  },
  {
   "cell_type": "code",
   "execution_count": null,
   "metadata": {},
   "outputs": [],
   "source": [
    "mask_num = len(info[\"mask_prefix\"])\n",
    "masks = []\n",
    "for i in range(mask_num):\n",
    "    mask = np.zeros_like(origin)\n",
    "    masked_column = origin.shape[1] // (mask_num + 1) * (i + 1)\n",
    "    mask[:, masked_column:] = 1\n",
    "    masks.append(mask)\n",
    "\n",
    "# for line in range(masks[0].shape[0]):\n",
    "#     for column in range(masks[0].shape[1]):\n",
    "#         print(masks[0][line][column][0], end=\" \")\n",
    "#     print()\n",
    "plt.imshow(masks[6]*255)"
   ]
  },
  {
   "cell_type": "code",
   "execution_count": null,
   "metadata": {},
   "outputs": [],
   "source": [
    "# Image files\n",
    "img_names = os.listdir(img_path)\n",
    "# MSE\n",
    "logits = []\n",
    "for i in range(mask_num):\n",
    "    mask = masks[i]\n",
    "    # for line in range(mask.shape[0]):\n",
    "    #     for column in range(mask.shape[1]):\n",
    "    #         print(mask[line][column][0], end=\" \")\n",
    "    #     print()\n",
    "    mask_prefix = info[\"mask_prefix\"][i]\n",
    "    imgs = [\n",
    "        load_image(os.path.join(img_path, img_name))\n",
    "        for img_name in img_names\n",
    "        if mask_prefix in img_name\n",
    "    ]\n",
    "    mse = [image_MSE(origin, img, mask) for img in imgs]\n",
    "    logits.append(np.mean(mse))\n",
    "    # for img in imgs:\n",
    "    #     plt.imshow(img)\n",
    "    #     plt.show()\n",
    "\n",
    "print(logits)"
   ]
  },
  {
   "cell_type": "code",
   "execution_count": null,
   "metadata": {},
   "outputs": [],
   "source": [
    "hpd_path = \"/nas/Public/data/HPDv2/test/\"\n",
    "save_path = \"/home/lyy/Repos/FACE-image/data/\"\n",
    "\n",
    "import os\n",
    "\n",
    "file_list = []\n",
    "\n",
    "if not os.path.exists(save_path):\n",
    "    os.mkdir(save_path)\n",
    "\n",
    "for file in os.listdir(hpd_path):\n",
    "    os.symlink(os.path.join(hpd_path, file), os.path.join(save_path, f\"image-{int(file.split('.')[0])}.\" + file.split(\".\")[-1] if file.split(\".\")[-1] != \"\" else \"jpg\"))"
   ]
  },
  {
   "cell_type": "markdown",
   "metadata": {},
   "source": [
    "## results analysis"
   ]
  },
  {
   "cell_type": "code",
   "execution_count": null,
   "metadata": {},
   "outputs": [],
   "source": [
    "import os\n",
    "import cv2\n",
    "import json\n",
    "import numpy as np\n",
    "import matplotlib.pyplot as plt\n",
    "\n",
    "from tqdm import tqdm\n",
    "from pygam import LinearGAM\n",
    "\n",
    "SPLIT = 64\n",
    "WIDTH = 512\n",
    "MODEL_NUMBER = 9\n",
    "\n",
    "hpd_path = \"/nas/Public/data/HPDv2/test/\"\n",
    "generate_path = \"/nas/Public/experiment_result/FACE-image/\"\n",
    "mapping_path = \"/nas/Public/data/HPDv2/test.json\""
   ]
  },
  {
   "cell_type": "code",
   "execution_count": null,
   "metadata": {},
   "outputs": [],
   "source": [
    "mapping = json.load(open(mapping_path))\n",
    "files = os.listdir(generate_path)\n",
    "\n",
    "groups = []\n",
    "\n",
    "for item in mapping:\n",
    "    group_complete = True\n",
    "    if len(item[\"image_path\"]) != MODEL_NUMBER:\n",
    "        # cannot determine which models are used\n",
    "        continue\n",
    "    for path in item[\"image_path\"]:\n",
    "        # iterate image numbers\n",
    "        number = int(path.split('.')[0])\n",
    "        single_complete = True\n",
    "        for i in range(SPLIT-1):\n",
    "            # check each mask re-generation\n",
    "            if (f\"image-{number}_mask-{i}_00001_.png\") not in files:\n",
    "                single_complete = False\n",
    "                break\n",
    "        if not single_complete:\n",
    "            group_complete = False\n",
    "            break\n",
    "    if group_complete:\n",
    "        groups.append(item[\"image_path\"])"
   ]
  },
  {
   "cell_type": "code",
   "execution_count": null,
   "metadata": {},
   "outputs": [],
   "source": [
    "print(len(groups))\n",
    "print(groups[0])"
   ]
  },
  {
   "cell_type": "code",
   "execution_count": null,
   "metadata": {},
   "outputs": [],
   "source": [
    "# missing_list = []\n",
    "# for i in range(1, 3701):\n",
    "#     for j in range(SPLIT-1):\n",
    "#         if (f\"image-{i}_mask-{j}_00001_.png\") not in files:\n",
    "#             if i not in missing_list:\n",
    "#                 missing_list.append(i)"
   ]
  },
  {
   "cell_type": "markdown",
   "metadata": {},
   "source": [
    "### logits calc"
   ]
  },
  {
   "cell_type": "code",
   "execution_count": null,
   "metadata": {},
   "outputs": [],
   "source": [
    "# logits = {}\n",
    "\n",
    "# for i in range(MODEL_NUMBER):\n",
    "#     logits[i] = []\n",
    "\n",
    "# for group in tqdm(groups):\n",
    "#     for i, file in enumerate(group):\n",
    "#         subject_img = cv2.imread(os.path.join(generate_path, f\"image-{int(file.split('.')[0])}.jpg_00001_.png\"), cv2.IMREAD_COLOR)[:,:,::-1]\n",
    "#         idx = int(file.split('.')[0])\n",
    "#         # plt.imshow(subject_img)\n",
    "#         # plt.show()\n",
    "#         # print(idx)\n",
    "#         sequence = []\n",
    "#         # each mask strip\n",
    "#         for mask_idx in range(SPLIT - 1):\n",
    "#             generated_img = cv2.imread(os.path.join(generate_path, f\"image-{idx}_mask-{mask_idx}_00001_.png\"), cv2.IMREAD_COLOR)[:,:,::-1]\n",
    "#             # one strip\n",
    "#             columns = WIDTH // SPLIT * (mask_idx + 1)\n",
    "#             token = np.array(generated_img[:, columns:columns + WIDTH // SPLIT], dtype=np.int16)\n",
    "#             ground_truth = np.array(subject_img[:, columns:columns + WIDTH // SPLIT], dtype=np.int16)\n",
    "\n",
    "#             mse = ((token - ground_truth) ** 2).mean()\n",
    "#             sequence.append(mse)\n",
    "#         logits[i].append(sequence)\n",
    "\n",
    "# with open(\"./logits.json\", \"w\") as f:\n",
    "#     json.dump(logits, f)"
   ]
  },
  {
   "cell_type": "code",
   "execution_count": null,
   "metadata": {},
   "outputs": [],
   "source": [
    "with open(\"./logits.json\", \"r\") as f:\n",
    "    logits = json.load(f)"
   ]
  },
  {
   "cell_type": "markdown",
   "metadata": {},
   "source": [
    "### ranking clac"
   ]
  },
  {
   "cell_type": "code",
   "execution_count": null,
   "metadata": {},
   "outputs": [],
   "source": [
    "rank_lists = {}\n",
    "rank_avgs = {}\n",
    "rank_var = {}\n",
    "for i in range(MODEL_NUMBER):\n",
    "    rank_lists[i] = []\n",
    "for item in mapping:\n",
    "    if len(item[\"rank\"]) != MODEL_NUMBER:\n",
    "        # cannot determine which models are used\n",
    "        continue\n",
    "    for i, rank in enumerate(item[\"rank\"]):\n",
    "        rank_lists[i].append(rank)\n",
    "\n",
    "for i in range(MODEL_NUMBER):\n",
    "    rank_avgs[i] = np.mean(rank_lists[i])\n",
    "    rank_var[i] = np.var(rank_lists[i])\n",
    "\n",
    "print(rank_avgs)\n",
    "print(rank_var)"
   ]
  },
  {
   "cell_type": "markdown",
   "metadata": {},
   "source": [
    "### plot"
   ]
  },
  {
   "cell_type": "code",
   "execution_count": null,
   "metadata": {},
   "outputs": [],
   "source": [
    "avg_logits = {}\n",
    "fig_size = (10, 5)\n",
    "for i, logit_list in logits.items():\n",
    "    # print(len(logit_list[0]))\n",
    "    # break\n",
    "    avg_logits[i] = np.mean(logit_list, axis=0)\n",
    "    spectra = []\n",
    "    for line in logit_list:\n",
    "        spectrum = np.abs(np.fft.fft(line))\n",
    "        spectra.append(spectrum)\n",
    "\n",
    "    plt.figure(0, fig_size)\n",
    "    plt.plot(np.linspace(0, 0.5, len(avg_logits[i])), avg_logits[i], label=f\"avg: {rank_avgs[int(i)]:.3}, var: {rank_var[int(i)]:.3}\")\n",
    "    plt.legend()\n",
    "\n",
    "\n",
    "    mean_spectrum = np.mean(spectra, axis=0)\n",
    "\n",
    "    mean_spectrum = mean_spectrum[1:]\n",
    "\n",
    "    plt.figure(1, fig_size)\n",
    "    plt.plot(np.linspace(0, len(mean_spectrum), len(mean_spectrum)), mean_spectrum, label=f\"avg: {rank_avgs[int(i)]:.3}, var: {rank_var[int(i)]:.3}\")\n",
    "    plt.legend()\n",
    "\n",
    "    X = np.linspace(0, 0.5, len(mean_spectrum))\n",
    "    gam = LinearGAM().fit(X, mean_spectrum)\n",
    "    XX = gam.generate_X_grid(term=0, n=len(spectra))\n",
    "    pdep, confi = gam.partial_dependence(term=0, X=XX, width=0.95)\n",
    "\n",
    "    # XX =       XX[10:]\n",
    "    # pdep =   pdep[10:]\n",
    "    # confi = confi[10:]\n",
    "\n",
    "    plt.figure(2, fig_size)\n",
    "    plt.plot(\n",
    "        XX[:, 0],\n",
    "        np.abs(pdep),\n",
    "        label=f\"avg: {rank_avgs[int(i)]:.3}, var: {rank_var[int(i)]:.3}\",\n",
    "    )\n",
    "    # plt.fill_between(\n",
    "    #     XX[:, 0],\n",
    "    #     np.where(\n",
    "    #         confi[:, 0] * confi[:, 1] > 0,\n",
    "    #         np.minimum(np.abs(confi[:, 0]), np.abs(confi[:, 1])),\n",
    "    #         0\n",
    "    #     ),\n",
    "    #     np.maximum(np.abs(confi[:, 0]), np.abs(confi[:, 1])),\n",
    "    #     alpha=0.25\n",
    "    # )\n",
    "    plt.legend()\n",
    "plt.show()"
   ]
  },
  {
   "cell_type": "markdown",
   "metadata": {},
   "source": [
    "### score"
   ]
  },
  {
   "cell_type": "code",
   "execution_count": null,
   "metadata": {},
   "outputs": [],
   "source": []
  }
 ],
 "metadata": {
  "kernelspec": {
   "display_name": "nlp",
   "language": "python",
   "name": "python3"
  },
  "language_info": {
   "codemirror_mode": {
    "name": "ipython",
    "version": 3
   },
   "file_extension": ".py",
   "mimetype": "text/x-python",
   "name": "python",
   "nbconvert_exporter": "python",
   "pygments_lexer": "ipython3",
   "version": "3.11.5"
  }
 },
 "nbformat": 4,
 "nbformat_minor": 2
}
